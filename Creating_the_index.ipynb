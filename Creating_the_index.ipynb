{
  "cells": [
    {
      "cell_type": "markdown",
      "metadata": {
        "id": "hWgiQS0zkWJ5"
      },
      "source": [
        "***Important*** DO NOT CLEAR THE OUTPUT OF THIS NOTEBOOK AFTER EXECUTION!!!"
      ],
      "id": "hWgiQS0zkWJ5"
    },
    {
      "cell_type": "code",
      "execution_count": null,
      "metadata": {
        "id": "c0ccf76b",
        "nbgrader": {
          "grade": false,
          "grade_id": "cell-Worker_Count",
          "locked": true,
          "schema_version": 3,
          "solution": false,
          "task": false
        },
        "outputId": "cf88b954-f39a-412a-d87e-660833e735b6"
      },
      "outputs": [
        {
          "name": "stdout",
          "output_type": "stream",
          "text": [
            "NAME          PLATFORM  WORKER_COUNT  PREEMPTIBLE_WORKER_COUNT  STATUS   ZONE           SCHEDULED_DELETE\r\n",
            "cluster-fb40  GCE       4                                       RUNNING  us-central1-a\r\n"
          ]
        }
      ],
      "source": [
        "# if the following command generates an error, you probably didn't enable \n",
        "# the cluster security option \"Allow API access to all Google Cloud services\"\n",
        "# under Manage Security → Project Access when setting up the cluster\n",
        "!gcloud dataproc clusters list --region us-central1"
      ],
      "id": "c0ccf76b"
    },
    {
      "cell_type": "markdown",
      "metadata": {
        "id": "01ec9fd3"
      },
      "source": [
        "# Imports & Setup"
      ],
      "id": "01ec9fd3"
    },
    {
      "cell_type": "code",
      "execution_count": null,
      "metadata": {
        "id": "32b3ec57",
        "nbgrader": {
          "grade": false,
          "grade_id": "cell-Setup",
          "locked": true,
          "schema_version": 3,
          "solution": false,
          "task": false
        },
        "outputId": "fc0e315d-21e9-411d-d69c-5b97e4e5d629"
      },
      "outputs": [
        {
          "name": "stdout",
          "output_type": "stream",
          "text": [
            "\u001b[33mWARNING: Running pip as the 'root' user can result in broken permissions and conflicting behaviour with the system package manager. It is recommended to use a virtual environment instead: https://pip.pypa.io/warnings/venv\u001b[0m\u001b[33m\n",
            "\u001b[0m\u001b[33mWARNING: Running pip as the 'root' user can result in broken permissions and conflicting behaviour with the system package manager. It is recommended to use a virtual environment instead: https://pip.pypa.io/warnings/venv\u001b[0m\u001b[33m\n",
            "\u001b[0m"
          ]
        }
      ],
      "source": [
        "!pip install -q google-cloud-storage==1.43.0\n",
        "!pip install -q graphframes"
      ],
      "id": "32b3ec57"
    },
    {
      "cell_type": "code",
      "execution_count": null,
      "metadata": {
        "id": "5609143b",
        "nbgrader": {
          "grade": false,
          "grade_id": "cell-Imports",
          "locked": true,
          "schema_version": 3,
          "solution": false,
          "task": false
        },
        "outputId": "a24aa24b-aa75-4823-83ca-1d7deef0f0de"
      },
      "outputs": [
        {
          "name": "stderr",
          "output_type": "stream",
          "text": [
            "[nltk_data] Downloading package stopwords to /root/nltk_data...\n",
            "[nltk_data]   Package stopwords is already up-to-date!\n"
          ]
        },
        {
          "data": {
            "text/plain": [
              "True"
            ]
          },
          "execution_count": 11,
          "metadata": {},
          "output_type": "execute_result"
        }
      ],
      "source": [
        "import pyspark\n",
        "import sys\n",
        "from collections import Counter, OrderedDict, defaultdict\n",
        "import itertools\n",
        "from itertools import islice, count, groupby\n",
        "import pandas as pd\n",
        "import os\n",
        "import re\n",
        "from operator import itemgetter\n",
        "import nltk\n",
        "from nltk.stem.porter import *\n",
        "from nltk.corpus import stopwords\n",
        "from time import time\n",
        "from pathlib import Path\n",
        "import pickle\n",
        "import pandas as pd\n",
        "from google.cloud import storage\n",
        "\n",
        "import hashlib\n",
        "def _hash(s):\n",
        "    return hashlib.blake2b(bytes(s, encoding='utf8'), digest_size=5).hexdigest()\n",
        "\n",
        "nltk.download('stopwords')"
      ],
      "id": "5609143b"
    },
    {
      "cell_type": "code",
      "execution_count": null,
      "metadata": {
        "id": "b10cc999",
        "nbgrader": {
          "grade": false,
          "grade_id": "cell-jar",
          "locked": true,
          "schema_version": 3,
          "solution": false,
          "task": false
        },
        "outputId": "8f93a7ec-71e0-49c1-fc81-9af385849a90"
      },
      "outputs": [
        {
          "name": "stdout",
          "output_type": "stream",
          "text": [
            "-rw-r--r-- 1 root root 247882 Jan 10 17:38 /usr/lib/spark/jars/graphframes-0.8.2-spark3.1-s_2.12.jar\r\n"
          ]
        }
      ],
      "source": [
        "# if nothing prints here you forgot to include the initialization script when starting the cluster\n",
        "!ls -l /usr/lib/spark/jars/graph*"
      ],
      "id": "b10cc999"
    },
    {
      "cell_type": "code",
      "execution_count": null,
      "metadata": {
        "id": "d3f86f11",
        "nbgrader": {
          "grade": false,
          "grade_id": "cell-pyspark-import",
          "locked": true,
          "schema_version": 3,
          "solution": false,
          "task": false
        }
      },
      "outputs": [],
      "source": [
        "from pyspark.sql import *\n",
        "from pyspark.sql.functions import *\n",
        "from pyspark import SparkContext, SparkConf, SparkFiles\n",
        "from pyspark.sql import SQLContext\n",
        "from graphframes import *"
      ],
      "id": "d3f86f11"
    },
    {
      "cell_type": "code",
      "execution_count": null,
      "metadata": {
        "id": "7adc1bf5",
        "nbgrader": {
          "grade": false,
          "grade_id": "cell-bucket_name",
          "locked": false,
          "schema_version": 3,
          "solution": true,
          "task": false
        }
      },
      "outputs": [],
      "source": [
        "# Put your bucket name below and make sure you can access it without an error\n",
        "bucket_name = 'anchor_bucket_1'\n",
        " \n",
        "full_path = f\"gs://{bucket_name}/\"\n",
        "paths=[]\n",
        "\n",
        "client = storage.Client()\n",
        "blobs = client.list_blobs(bucket_name)\n",
        "for b in blobs:\n",
        "    if b.name != 'graphframes.sh':\n",
        "        paths.append(full_path+b.name)\n",
        "        \n",
        "    "
      ],
      "id": "7adc1bf5"
    },
    {
      "cell_type": "markdown",
      "source": [
        "# Building an inverted index\n"
      ],
      "metadata": {
        "id": "n7ZiTjqiiK5W"
      },
      "id": "n7ZiTjqiiK5W"
    },
    {
      "cell_type": "markdown",
      "source": [
        "Reading the entire corpus and partitioning it to 3 parts - body, anchor and title."
      ],
      "metadata": {
        "id": "_AGKjZe2iSbg"
      },
      "id": "_AGKjZe2iSbg"
    },
    {
      "cell_type": "code",
      "source": [
        "parquetFile = spark.read.parquet(*paths)\n",
        "doc_text_pairs = parquetFile.limit.select(\"text\", \"id\").rdd\n",
        "doc_title_pairs = parquetFile.select(\"title\", \"id\").rdd\n",
        "doc_anchor_pairs = parquetFile.select(\"anchor_text\", \"id\").rdd"
      ],
      "metadata": {
        "id": "oXPFL4M1iJZ7"
      },
      "id": "oXPFL4M1iJZ7",
      "execution_count": null,
      "outputs": []
    },
    {
      "cell_type": "markdown",
      "source": [
        "Importing the inverted index module."
      ],
      "metadata": {
        "id": "w8rDKUdCixIN"
      },
      "id": "w8rDKUdCixIN"
    },
    {
      "cell_type": "code",
      "execution_count": null,
      "metadata": {
        "id": "04371c88",
        "outputId": "327fe81b-80f4-4b3a-8894-e74720d92e35"
      },
      "outputs": [
        {
          "name": "stdout",
          "output_type": "stream",
          "text": [
            "inverted_index_gcp.py\r\n"
          ]
        }
      ],
      "source": [
        "# if nothing prints here you forgot to upload the file inverted_index_gcp.py to the home dir\n",
        "%cd -q /home/dataproc\n",
        "!ls inverted_index_gcp.py"
      ],
      "id": "04371c88"
    },
    {
      "cell_type": "code",
      "execution_count": null,
      "metadata": {
        "id": "2d3285d8",
        "scrolled": true
      },
      "outputs": [],
      "source": [
        "# adding our python module to the cluster\n",
        "sc.addFile(\"/home/dataproc/inverted_index_gcp.py\")\n",
        "sys.path.insert(0,SparkFiles.getRootDirectory())"
      ],
      "id": "2d3285d8"
    },
    {
      "cell_type": "code",
      "execution_count": null,
      "metadata": {
        "id": "2477a5b9"
      },
      "outputs": [],
      "source": [
        "from inverted_index_gcp import *"
      ],
      "id": "2477a5b9"
    },
    {
      "cell_type": "markdown",
      "source": [
        "**Helper functions**"
      ],
      "metadata": {
        "id": "H0GAkqmoi8RU"
      },
      "id": "H0GAkqmoi8RU"
    },
    {
      "cell_type": "code",
      "execution_count": null,
      "metadata": {
        "id": "a4b6ee29",
        "nbgrader": {
          "grade": false,
          "grade_id": "cell-token2bucket",
          "locked": false,
          "schema_version": 3,
          "solution": true,
          "task": false
        }
      },
      "outputs": [],
      "source": [
        "# define the stopwords\n",
        "english_stopwords = frozenset(stopwords.words('english'))\n",
        "corpus_stopwords = [\"category\", \"references\", \"also\", \"external\", \"links\", \n",
        "                    \"may\", \"first\", \"see\", \"history\", \"people\", \"one\", \"two\", \n",
        "                    \"part\", \"thumb\", \"including\", \"second\", \"following\", \n",
        "                    \"many\", \"however\", \"would\", \"became\"]\n",
        "\n",
        "all_stopwords = english_stopwords.union(corpus_stopwords)\n",
        "\n",
        "# tokenize and stemming the words if defined\n",
        "def rearrange_words(words_txt, stemm=False):\n",
        "    set_of_words = []\n",
        "    RE_WORD = re.compile(r\"\"\"[\\#\\@\\w](['\\-]?\\w){2,24}\"\"\", re.UNICODE)\n",
        "    Port_stem = PorterStemmer()\n",
        "    words = [word.group() for word in RE_WORD.finditer(words_txt.lower()) if word.group() not in all_stopwords]\n",
        "    if stemm:\n",
        "      Port_stem = PorterStemmer()\n",
        "      for t in words:\n",
        "          if t not in all_stopwords: \n",
        "              set_of_words.append(Port_stem.stem(t))\n",
        "      return set_of_words\n",
        "    return words\n"
      ],
      "id": "a4b6ee29"
    },
    {
      "cell_type": "code",
      "execution_count": null,
      "metadata": {
        "id": "JcwCcBGzhy_v"
      },
      "outputs": [],
      "source": [
        "def word_count(text, id, stemm=False):\n",
        "  '''Count the frequency of each word in `text` (tf) that is not included in \n",
        "  `all_stopwords` and return entries that will go into our posting lists.\n",
        "  Parameters:\n",
        "  -----------\n",
        "    text: str\n",
        "      Text of one document\n",
        "    id: int\n",
        "      Document id\n",
        "  Returns:\n",
        "  --------\n",
        "    List of tuples\n",
        "      A list of (token, (doc_id, tf)) pairs \n",
        "      for example: [(\"Anarchism\", (12, 5)), ...]\n",
        "  '''\n",
        "  tokens = rearrange_words(text)\n",
        "  # Dictionary of tokens:\n",
        "  terms_posting={}\n",
        "  stemmer = PorterStemmer()  \n",
        "  # For each token:\n",
        "  for ind in tokens:\n",
        "    # This is not in the removal words:\n",
        "    if ind not in all_stopwords:\n",
        "      if stemm:\n",
        "        ind = stemmer.stem(ind)  \n",
        "      # If you saw this word before:\n",
        "      if ind in terms_posting:\n",
        "        # Add to this doc_id or new doc_id (tf+1):\n",
        "        terms_posting[ind]=(id,terms_posting[ind][1]+1)\n",
        "      else:\n",
        "        # Not seen before put the doc_id with (tf=1):\n",
        "        terms_posting[ind]=(id,1)\n",
        "  res = list(terms_posting.items())\n",
        "  return (res)\n",
        "\n",
        "def reduce_word_counts(unsorted_pl):\n",
        "  ''' Returns a sorted posting list by wiki_id.\n",
        "  Parameters:\n",
        "  -----------\n",
        "    unsorted_pl: list of tuples\n",
        "      A list of (wiki_id, tf) tuples \n",
        "  Returns:\n",
        "  --------\n",
        "    list of tuples\n",
        "      A sorted posting list.\n",
        "  '''\n",
        "  # Just sort the tuples: Shuffling:\n",
        "  return(sorted(unsorted_pl))\n",
        "\n",
        "def calculate_df(postings):\n",
        "  ''' Takes a posting list RDD and calculate the df for each token.\n",
        "  Parameters:\n",
        "  -----------\n",
        "    postings: RDD\n",
        "      An RDD where each element is a (token, posting_list) pair.\n",
        "  Returns:\n",
        "  --------\n",
        "    RDD\n",
        "      An RDD where each element is a (token, df) pair.\n",
        "  '''\n",
        "  # How many docs include in them each token:\n",
        "  return (postings.mapValues(lambda tokens: len(tokens)))\n"
      ],
      "id": "JcwCcBGzhy_v"
    },
    {
      "cell_type": "code",
      "execution_count": null,
      "metadata": {
        "id": "KsLuUS6Jhy_w"
      },
      "outputs": [],
      "source": [
        "NUM_BUCKETS = 124\n",
        "def token2bucket_id(token):\n",
        "  return int(_hash(token),16) % NUM_BUCKETS\n",
        "\n",
        "def partition_postings_and_write(postings,buck_n):\n",
        "  ''' A function that partitions the posting lists into buckets, writes out \n",
        "  all posting lists in a bucket to disk, and returns the posting locations for \n",
        "  each bucket. Partitioning should be done through the use of `token2bucket` \n",
        "  above. Writing to disk should use the function  `write_a_posting_list`, a \n",
        "  static method implemented in inverted_index_colab.py under the InvertedIndex \n",
        "  class. \n",
        "  Parameters:\n",
        "  -----------\n",
        "    postings: RDD\n",
        "      An RDD where each item is a (w, posting_list) pair.\n",
        "  Returns:\n",
        "  --------\n",
        "    RDD\n",
        "      An RDD where each item is a posting locations dictionary for a bucket. The\n",
        "      posting locations maintain a list for each word of file locations and \n",
        "      offsets its posting list was written to. See `write_a_posting_list` for \n",
        "      more details.\n",
        "  '''\n",
        "  # Processes the data by bucket id and pair for each of the pairs\n",
        "  # according to the given function:\n",
        "  mapper = postings.map(lambda pair: (token2bucket_id(pair[0]),pair))\n",
        "  # Merge all the records by the buckets id:\n",
        "  reducer = mapper.groupByKey()\n",
        "  # Need to write each of the buckets to the disk:\n",
        "  w_block = reducer.map(lambda buck:InvertedIndex.write_a_posting_list(buck,buck_n))\n",
        "  return (w_block)"
      ],
      "id": "KsLuUS6Jhy_w"
    },
    {
      "cell_type": "code",
      "execution_count": null,
      "metadata": {
        "id": "ZBISKlDJhy_x"
      },
      "outputs": [],
      "source": [
        "# Create the posting lists, writing them into the bucket and calculating the document frequency for each word.\n",
        "\n",
        "def posting_list_pairs(doc_par,part_text, stemm=False):\n",
        "    word_counts = doc_par.flatMap(lambda x: word_count(x[0], x[1], stemm)) # -> Vw: [ (w,(doc_id,tf)), ...]\n",
        "    list_post = word_counts.groupByKey().mapValues(reduce_word_counts) # -> Vw:[ (w,[(doc_id,tf), ...]),....]\n",
        "    if(part_text == 'body'):\n",
        "        list_post = list_post.filter(lambda x: len(x[1])>50) # filter out rare words, words that appear in 50 or fewer documents \n",
        "    \n",
        "    word2df_cal = calculate_df(list_post).collectAsMap() # -> Vw: {w : DF , ....}\n",
        "    _ = partition_postings_and_write(list_post,f\"{part_text}_bucket_1\").collect() # write to bucket (w,df)\n",
        "    return list_post, word2df_cal"
      ],
      "id": "ZBISKlDJhy_x"
    },
    {
      "cell_type": "code",
      "execution_count": null,
      "metadata": {
        "id": "g61GFM_0hy_y"
      },
      "outputs": [],
      "source": [
        "#Manipulation on anchor text\n",
        "doc_anchor = doc_anchor_pairs.map(lambda x:(\" \".join([i[1] for i in x[0]]),x[1]))"
      ],
      "id": "g61GFM_0hy_y"
    },
    {
      "cell_type": "code",
      "execution_count": null,
      "metadata": {
        "id": "Opl6eRNLM5Xv",
        "nbgrader": {
          "grade": true,
          "grade_id": "collect-posting",
          "locked": true,
          "points": 0,
          "schema_version": 3,
          "solution": false,
          "task": false
        }
      },
      "outputs": [],
      "source": [
        "client = storage.Client()\n",
        "# collect all posting lists locations into one super-set\n",
        "def super_posting_locs(buck_n):\n",
        "    super_posting_locs = defaultdict(list)\n",
        "    for blob in client.list_blobs(buck_n, prefix='postings_gcp'):\n",
        "      if not blob.name.endswith(\"pickle\"):\n",
        "        continue\n",
        "      with blob.open(\"rb\") as f:\n",
        "        posting_locs = pickle.load(f)\n",
        "        for k, v in posting_locs.items():\n",
        "            super_posting_locs[k].extend(v)\n",
        "    return super_posting_locs"
      ],
      "id": "Opl6eRNLM5Xv"
    },
    {
      "cell_type": "markdown",
      "metadata": {
        "id": "VhAV0A6dNZWY"
      },
      "source": [
        "Putting it all together"
      ],
      "id": "VhAV0A6dNZWY"
    },
    {
      "cell_type": "code",
      "execution_count": null,
      "metadata": {
        "id": "54vqT_0WNc3w"
      },
      "outputs": [],
      "source": [
        "from math import sqrt\n",
        "import numpy as np\n",
        "\n",
        "def inv_idx(p_txt, stemm=False):\n",
        "    # Create inverted index instance\n",
        "    inv = InvertedIndex()\n",
        "    # Adding the posting locations dictionary to the inverted index\n",
        "    if p_txt == \"body\":\n",
        "        # Extract df and posting list for every word in the body\n",
        "        post_fil, inv.df = posting_list_pairs(doc_text_pairs,p_txt, stemm)\n",
        "         # Corpus length \n",
        "        inv.corpus_len = parquetFile.count()\n",
        "        # Calculating the idf for each word in the body\n",
        "        inv.idf_dict = {word:np.log10(inv.corpus_len/val) for word, val in inv.df.items()} # {word : idf_value, ...}\n",
        "        # Tokenize the word in the body\n",
        "        body_docs_tokenized = doc_text_pairs.map(lambda x: (x[1], rearrange_words(x[0], stemm))) # [(doc_id,[token1,..., token n]),...]\n",
        "        # Calculating the length of each document\n",
        "        DL_map = body_docs_tokenized.map(lambda x: (x[0], len(x[1])))\n",
        "        inv.DL = DL_map.collectAsMap()\n",
        "\n",
        "    elif p_txt == \"title\":\n",
        "        # Extract df and posting list for every word in the title\n",
        "        post_fil, inv.df = posting_list_pairs(doc_title_pairs,p_txt, stemm)\n",
        "        # Extract titles\n",
        "        inv.title = doc_title_pairs.toDF().select(\"id\",\"title\").rdd.collectAsMap() \n",
        "        # Tokenize the word in the title       \n",
        "        body_docs_tokenized = doc_title_pairs.map(lambda x: (x[1], rearrange_words(x[0], stemm))) # [(doc_id,[token1,..., token n]),...]\n",
        "        # Calculating the length of each document\n",
        "        DL_dict = {}\n",
        "        for i in body_docs_tokenized.collect():\n",
        "            DL_dict[i[0]] = len(i[1])\n",
        "        inv.DL = DL_dict #{ doc_id: doc_len, ...}\n",
        "        # Corpus length \n",
        "        inv.corpus_len = parquetFile.count() \n",
        "               \n",
        "    elif p_txt == \"anchor\":\n",
        "        # Extract df and posting list for every word in the anchor\n",
        "        post_fil, inv.df = posting_list_pairs(doc_anchor,p_txt, stemm)\n",
        "        # Tokenize the word in the anchor\n",
        "        body_docs_tokenized = doc_anchor.map(lambda x: (x[1], rearrange_words(x[0], stemm))) # [(doc_id,[token1,..., token n]),...]\n",
        "        # Calculating the length of each document\n",
        "        DL_map = body_docs_tokenized.map(lambda x: (x[0], len(x[1])))\n",
        "        inv.DL = DL_map.collectAsMap()\n",
        "        # Corpus length\n",
        "        inv.corpus_len = parquetFile.count()  \n",
        "        \n",
        "    # Adding the posting locations dictionary to the inverted index\n",
        "    inv.posting_locs = super_posting_locs(f\"{p_txt}_bucket_1\")\n",
        "    # write the global stats out\n",
        "    inv.write_index('.', f'index_{p_txt}_stemming_{stemm}')\n",
        "    # upload to gs\n",
        "    index_src = f\"index_{p_txt}_stemming_{stemm}.pkl\"\n",
        "    index_dst = f'gs://{p_txt}_bucket_1/postings_gcp_stemming_{stemm}/{index_src}'\n",
        "    !gsutil cp $index_src $index_dst"
      ],
      "id": "54vqT_0WNc3w"
    },
    {
      "cell_type": "markdown",
      "source": [
        "**Creating the inverted index without stemming**"
      ],
      "metadata": {
        "id": "mHxTzUX2tsoQ"
      },
      "id": "mHxTzUX2tsoQ"
    },
    {
      "cell_type": "code",
      "execution_count": null,
      "metadata": {
        "id": "msogGbJ3c8JF",
        "nbgrader": {
          "grade": false,
          "grade_id": "cell-index_dst_size",
          "locked": true,
          "schema_version": 3,
          "solution": false,
          "task": false
        },
        "scrolled": true
      },
      "outputs": [],
      "source": [
        "inv_idx(\"title\")\n",
        "inv_idx(\"body\")\n",
        "inv_idx(\"anchor\")"
      ],
      "id": "msogGbJ3c8JF"
    },
    {
      "cell_type": "markdown",
      "source": [
        "**Creating the inverted index with stemming**"
      ],
      "metadata": {
        "id": "VLopO9j6t6a5"
      },
      "id": "VLopO9j6t6a5"
    },
    {
      "cell_type": "code",
      "execution_count": null,
      "metadata": {
        "id": "qlp7iMqFhy_1"
      },
      "outputs": [],
      "source": [
        "inv_idx(\"title\", stemm=True)\n",
        "inv_idx(\"body\", stemm=True)\n",
        "inv_idx(\"anchor\", stemm=True)"
      ],
      "id": "qlp7iMqFhy_1"
    },
    {
      "cell_type": "markdown",
      "metadata": {
        "id": "fc0667a9",
        "nbgrader": {
          "grade": false,
          "grade_id": "cell-2a6d655c112e79c5",
          "locked": true,
          "schema_version": 3,
          "solution": false,
          "task": false
        }
      },
      "source": [
        "## PageRank:"
      ],
      "id": "fc0667a9"
    },
    {
      "cell_type": "markdown",
      "metadata": {
        "id": "fdd1bdca",
        "nbgrader": {
          "grade": false,
          "grade_id": "cell-2fee4bc8d83c1e2a",
          "locked": true,
          "schema_version": 3,
          "solution": false,
          "task": false
        }
      },
      "source": [
        "Compute PageRank for the entire English Wikipedia."
      ],
      "id": "fdd1bdca"
    },
    {
      "cell_type": "code",
      "execution_count": null,
      "metadata": {
        "id": "yVjnTvQsegc-"
      },
      "outputs": [],
      "source": [
        "# Put your `generate_graph` function here\n",
        "def generate_graph(pages):\n",
        "  ''' Compute the directed graph generated by wiki links.\n",
        "  Parameters:\n",
        "  -----------\n",
        "    pages: RDD\n",
        "      An RDD where each row consists of one wikipedia articles with 'id' and \n",
        "      'anchor_text'.\n",
        "  Returns:\n",
        "  --------\n",
        "    edges: RDD\n",
        "      An RDD where each row represents an edge in the directed graph created by\n",
        "      the wikipedia links. The first entry should the source page id and the \n",
        "      second entry is the destination page id. No duplicates should be present. \n",
        "    vertices: RDD\n",
        "      An RDD where each row represents a vetrix (node) in the directed graph \n",
        "      created by the wikipedia links. No duplicates should be present. \n",
        "  '''\n",
        "  # Calculate edges by the raws of the pages:\n",
        "  ed = pages.flatMap(lambda raw:[(raw[0],tup[0]) for tup in raw[1]])\n",
        "  edges = ed.distinct()\n",
        "  # Calculate vertices by the tuples of edges:\n",
        "  ver = edges.flatMap(lambda tup:[(ind,) for ind in tup])\n",
        "  vertices = ver.distinct()\n",
        "  return edges, vertices"
      ],
      "id": "yVjnTvQsegc-"
    },
    {
      "cell_type": "code",
      "execution_count": null,
      "metadata": {
        "id": "db005700",
        "nbgrader": {
          "grade": false,
          "grade_id": "cell-PageRank",
          "locked": false,
          "schema_version": 3,
          "solution": true,
          "task": false
        }
      },
      "outputs": [],
      "source": [
        "pages_links = parquetFile.select(\"id\", \"anchor_text\").rdd\n",
        "# construct the graph \n",
        "edges, vertices = generate_graph(pages_links)\n",
        "verticesDF = vertices.toDF(['id']).repartition(124, 'id')\n",
        "edgesDF = edges.toDF(['src', 'dst']).repartition(124, 'src')\n",
        "g = GraphFrame(verticesDF, edgesDF)\n",
        "pr_results = g.pageRank(resetProbability=0.15, maxIter=6)\n",
        "pr = pr_results.vertices.select(\"id\", \"pagerank\")\n",
        "pr = pr.sort(col('pagerank').desc())\n",
        "pr = (pr.toPandas()).to_dict()\n",
        "pr = pd.DataFrame(pr)\n",
        "pr.to_pickle(f'gs://{bucket_name}/pr/page_rank.pkl')"
      ],
      "id": "db005700"
    },
    {
      "cell_type": "markdown",
      "metadata": {
        "id": "i94ouuM5hy_-"
      },
      "source": [
        "##  Page Views:"
      ],
      "id": "i94ouuM5hy_-"
    },
    {
      "cell_type": "code",
      "execution_count": null,
      "metadata": {
        "id": "hOgG0DCbhy_-"
      },
      "outputs": [],
      "source": [
        "pv_path = 'https://dumps.wikimedia.org/other/pageview_complete/monthly/2021/2021-08/pageviews-202108-user.bz2'\n",
        "p = Path(pv_path) \n",
        "pv_name = p.name\n",
        "pv_temp = f'{p.stem}-4dedup.txt'\n",
        "pv_clean = f'{p.stem}.pkl'\n",
        "\n",
        "# Download the file (2.3GB): \n",
        "!wget -N $pv_path\n",
        "\n",
        "# Filter for English pages, and keep just two fields: article ID (3) and monthly \n",
        "# total number of page views (5). Then, remove lines with article id or page \n",
        "# view values that are not a sequence of digits.\n",
        "!bzcat $pv_name | grep \"^en\\.wikipedia\" | cut -d' ' -f3,5 | grep -P \"^\\d+\\s\\d+$\" > $pv_temp\n",
        "# Create a Counter (dictionary) that sums up the pages views for the same \n",
        "# article, resulting in a mapping from article id to total page views.\n",
        "wid2pv = Counter()\n",
        "with open(pv_temp, 'rt') as f:\n",
        "  for line in f:\n",
        "    parts = line.split(' ')\n",
        "    wid2pv.update({int(parts[0]): int(parts[1])})\n",
        "# write out the counter as binary file (pickle it)\n",
        "with open(pv_clean, 'wb') as f:\n",
        "  pickle.dump(wid2pv, f)\n"
      ],
      "id": "hOgG0DCbhy_-"
    }
  ],
  "metadata": {
    "colab": {
      "provenance": []
    },
    "kernelspec": {
      "display_name": "Python 3",
      "language": "python",
      "name": "python3"
    },
    "language_info": {
      "codemirror_mode": {
        "name": "ipython",
        "version": 3
      },
      "file_extension": ".py",
      "mimetype": "text/x-python",
      "name": "python",
      "nbconvert_exporter": "python",
      "pygments_lexer": "ipython3",
      "version": "3.8.3"
    }
  },
  "nbformat": 4,
  "nbformat_minor": 5
}